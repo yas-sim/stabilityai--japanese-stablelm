{
 "cells": [
  {
   "cell_type": "code",
   "execution_count": 1,
   "id": "c0d4de93-68b9-4162-8fe6-95cef15cccbf",
   "metadata": {},
   "outputs": [],
   "source": [
    "import openvino as ov"
   ]
  },
  {
   "cell_type": "code",
   "execution_count": 3,
   "id": "028dad4f-d908-4877-b865-79b9c7737e13",
   "metadata": {},
   "outputs": [],
   "source": [
    "model = ov.Core().read_model('openvino_model_int4asym.xml')\n"
   ]
  },
  {
   "cell_type": "code",
   "execution_count": 4,
   "id": "c1da232d-2d56-4458-92cb-4c92ad938d86",
   "metadata": {},
   "outputs": [
    {
     "name": "stdout",
     "output_type": "stream",
     "text": [
      "['__class__', '__copy__', '__deepcopy__', '__delattr__', '__dict__', '__dir__', '__doc__', '__eq__', '__format__', '__ge__', '__getattribute__', '__gt__', '__hash__', '__init__', '__init_subclass__', '__le__', '__lt__', '__module__', '__ne__', '__new__', '__pybind11_module_local_v4_msvc__', '__reduce__', '__reduce_ex__', '__repr__', '__setattr__', '__sizeof__', '__str__', '__subclasshook__', '_get_raw_address', 'add_outputs', 'add_parameters', 'add_results', 'add_sinks', 'add_variables', 'clone', 'dynamic', 'evaluate', 'friendly_name', 'get_friendly_name', 'get_name', 'get_ops', 'get_ordered_ops', 'get_output_element_type', 'get_output_op', 'get_output_partial_shape', 'get_output_shape', 'get_output_size', 'get_parameter_index', 'get_parameters', 'get_result', 'get_result_index', 'get_results', 'get_rt_info', 'get_sinks', 'get_variable_by_id', 'get_variables', 'has_rt_info', 'input', 'inputs', 'is_dynamic', 'name', 'output', 'outputs', 'parameters', 'remove_parameter', 'remove_result', 'remove_sink', 'remove_variable', 'replace_parameter', 'reshape', 'result', 'results', 'rt_info', 'set_friendly_name', 'set_rt_info', 'sinks', 'validate_nodes_and_infer_types', 'variables']\n"
     ]
    }
   ],
   "source": [
    "print(dir(model))"
   ]
  },
  {
   "cell_type": "code",
   "execution_count": 21,
   "id": "2b9bd2fa-064c-4a7e-92db-dd1d005df6a9",
   "metadata": {},
   "outputs": [
    {
     "data": {
      "text/plain": [
       "<Result: 'Result_354075' ([?,?,4096])>"
      ]
     },
     "execution_count": 21,
     "metadata": {},
     "output_type": "execute_result"
    }
   ],
   "source": [
    "model.get_output_op(1)"
   ]
  },
  {
   "cell_type": "code",
   "execution_count": null,
   "id": "97501fc9-7d07-4260-9dba-a8ec90ca138b",
   "metadata": {},
   "outputs": [],
   "source": []
  }
 ],
 "metadata": {
  "kernelspec": {
   "display_name": "Python 3 (ipykernel)",
   "language": "python",
   "name": "python3"
  },
  "language_info": {
   "codemirror_mode": {
    "name": "ipython",
    "version": 3
   },
   "file_extension": ".py",
   "mimetype": "text/x-python",
   "name": "python",
   "nbconvert_exporter": "python",
   "pygments_lexer": "ipython3",
   "version": "3.10.9"
  }
 },
 "nbformat": 4,
 "nbformat_minor": 5
}
