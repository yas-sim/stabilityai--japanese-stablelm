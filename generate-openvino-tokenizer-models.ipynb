{
 "cells": [
  {
   "cell_type": "code",
   "execution_count": null,
   "id": "27656956-354c-488f-84da-e4b837ec5a97",
   "metadata": {},
   "outputs": [],
   "source": [
    "!pip install openvino_tokenizer"
   ]
  },
  {
   "cell_type": "code",
   "execution_count": 1,
   "id": "c152ba44-2ba6-49f0-bce0-251e0cd19d94",
   "metadata": {},
   "outputs": [],
   "source": [
    "from transformers import AutoTokenizer\n",
    "from openvino_tokenizers import convert_tokenizer, connect_models\n",
    "import openvino as ov"
   ]
  },
  {
   "cell_type": "code",
   "execution_count": 2,
   "id": "2856b8b6-c5da-4430-9747-1888e374ed07",
   "metadata": {},
   "outputs": [],
   "source": [
    "model_id = 'stabilityai/japanese-stablelm-base-gamma-7b'\n",
    "model_vendor, model_name = model_id.split('/')"
   ]
  },
  {
   "cell_type": "markdown",
   "id": "04f4aad7-4411-459b-a34e-962e754c8197",
   "metadata": {},
   "source": [
    "## Load a tokenizer from HuggingFace hub"
   ]
  },
  {
   "cell_type": "code",
   "execution_count": 3,
   "id": "4869a80d-f156-4370-97ca-2f4fcb5e7331",
   "metadata": {},
   "outputs": [],
   "source": [
    "hf_tokenizer = AutoTokenizer.from_pretrained(model_id)"
   ]
  },
  {
   "cell_type": "markdown",
   "id": "61b95a3b-e882-4ab6-8770-ff8e512a3329",
   "metadata": {},
   "source": [
    "## Generate tokenizer and detokenizer models, and save them."
   ]
  },
  {
   "cell_type": "code",
   "execution_count": 6,
   "id": "d2ffecc0-5f5e-4679-a1cb-49dbe03f24e9",
   "metadata": {},
   "outputs": [],
   "source": [
    "ov_tokenizer, ov_detokenizer = convert_tokenizer(hf_tokenizer, with_detokenizer=True)\n",
    "ov.save_model(ov_tokenizer, 'tokenizer.xml')\n",
    "ov.save_model(ov_detokenizer, 'detokenizer.xml')"
   ]
  },
  {
   "cell_type": "markdown",
   "id": "cf78584c-be54-4f96-8320-7a7a326a5499",
   "metadata": {},
   "source": [
    "## Compile tokenizer and detokenizer, and test them."
   ]
  },
  {
   "cell_type": "code",
   "execution_count": 7,
   "id": "97630225-5082-4e60-a3ef-c546dd1c0517",
   "metadata": {},
   "outputs": [
    {
     "name": "stdout",
     "output_type": "stream",
     "text": [
      "{<ConstOutput: names[input_ids] shape[?,?] type: i64>: array([[    1,   851,   349,   264,  4969, 28723]], dtype=int64), <ConstOutput: names[attention_mask] shape[?,?] type: i64>: array([[1, 1, 1, 1, 1, 1]], dtype=int64)}\n",
      "['<s> This is a pen.']\n"
     ]
    }
   ],
   "source": [
    "compiled_tokenizer   = ov.compile_model(ov_tokenizer,   'CPU')\n",
    "compiled_detokenizer = ov.compile_model(ov_detokenizer, 'CPU')\n",
    "\n",
    "tokens = compiled_tokenizer(['This is a pen.'])\n",
    "print(tokens)\n",
    "text = compiled_detokenizer(tokens['input_ids'])\n",
    "print(text['string_output'])"
   ]
  },
  {
   "cell_type": "code",
   "execution_count": null,
   "id": "65120797-26cc-4edf-9061-3eddcd0e3d80",
   "metadata": {},
   "outputs": [],
   "source": []
  }
 ],
 "metadata": {
  "kernelspec": {
   "display_name": "Python 3 (ipykernel)",
   "language": "python",
   "name": "python3"
  },
  "language_info": {
   "codemirror_mode": {
    "name": "ipython",
    "version": 3
   },
   "file_extension": ".py",
   "mimetype": "text/x-python",
   "name": "python",
   "nbconvert_exporter": "python",
   "pygments_lexer": "ipython3",
   "version": "3.10.9"
  }
 },
 "nbformat": 4,
 "nbformat_minor": 5
}
