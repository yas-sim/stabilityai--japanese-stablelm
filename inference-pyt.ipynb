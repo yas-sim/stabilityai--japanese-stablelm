{
 "cells": [
  {
   "cell_type": "code",
   "execution_count": 1,
   "id": "09109045-3013-413a-a445-9b49c8185af7",
   "metadata": {},
   "outputs": [
    {
     "data": {
      "application/vnd.jupyter.widget-view+json": {
       "model_id": "b891418a95e348d1b505bcfdae8b99ce",
       "version_major": 2,
       "version_minor": 0
      },
      "text/plain": [
       "Loading checkpoint shards:   0%|          | 0/2 [00:00<?, ?it/s]"
      ]
     },
     "metadata": {},
     "output_type": "display_data"
    }
   ],
   "source": [
    "import numpy as np\n",
    "import torch\n",
    "from transformers import LlamaTokenizer, AutoModelForCausalLM, AutoTokenizer\n",
    "\n",
    "#model_id = \"stabilityai/japanese-stablelm-instruct-alpha-7b\"    \n",
    "#model_id = \"stabilityai/japanese-stablelm-base-alpha-7b\"\n",
    "model_id = \"stabilityai/japanese-stablelm-base-gamma-7b\"\n",
    "\n",
    "#tokenizer = LlamaTokenizer.from_pretrained(\"novelai/nerdstash-tokenizer-v1\", additional_special_tokens=['▁▁'])\n",
    "tokenizer = AutoTokenizer.from_pretrained(model_id)\n",
    "\n",
    "model = AutoModelForCausalLM.from_pretrained(\n",
    "    model_id,\n",
    "    trust_remote_code=True,\n",
    ")\n",
    "#model.half()\n",
    "model.eval()\n",
    "\n",
    "def build_prompt(user_query, inputs=\"\", sep=\"\\n\\n### \"):\n",
    "    sys_msg = \"以下は、タスクを説明する指示と、文脈のある入力の組み合わせです。要求を適切に満たす応答を書きなさい。\"\n",
    "    p = sys_msg\n",
    "    roles = [\"指示\", \"応答\"]\n",
    "    msgs = [\": \\n\" + user_query, \": \"]\n",
    "    if inputs:\n",
    "        roles.insert(1, \"入力\")\n",
    "        msgs.insert(1, \": \\n\" + inputs)\n",
    "    for role, msg in zip(roles, msgs):\n",
    "        p += sep + role + msg\n",
    "    return p\n"
   ]
  },
  {
   "cell_type": "code",
   "execution_count": 8,
   "id": "4edc83ec-7a32-4e2f-a6ce-dc7cf766296a",
   "metadata": {},
   "outputs": [],
   "source": [
    "\n",
    "# this is for reproducibility.\n",
    "# feel free to change to get different result\n",
    "seed = 42\n",
    "torch.manual_seed(seed)\n",
    "\n",
    "# Infer with prompt without any additional input\n",
    "user_inputs = {\n",
    "    \"user_query\": \"VR とはどのようなものですか？\",\n",
    "    \"inputs\": \"\"\n",
    "}\n",
    "prompt = build_prompt(**user_inputs)\n",
    "\n",
    "tokens = tokenizer(\n",
    "    prompt, \n",
    "    add_special_tokens=False, \n",
    "    return_tensors=\"pt\"\n",
    ")\n",
    "\n",
    "pos = tokens.input_ids.shape[-1]"
   ]
  },
  {
   "cell_type": "code",
   "execution_count": 9,
   "id": "b4fa2905-c49e-4000-ae2c-96a530521044",
   "metadata": {},
   "outputs": [],
   "source": [
    "inputs = {\n",
    "    'input_ids'           : tokens.input_ids,\n",
    "    'attention_mask'      : tokens.attention_mask,\n",
    "    'position_ids'        : torch.tensor([n for n in range(pos)], dtype=torch.int32),\n",
    "    'use_cache'           : True,\n",
    "    'return_dict'         : True\n",
    "}"
   ]
  },
  {
   "cell_type": "code",
   "execution_count": 10,
   "id": "413dc19a-d561-4d57-9cf4-139724dbf69e",
   "metadata": {},
   "outputs": [
    {
     "name": "stdout",
     "output_type": "stream",
     "text": [
      "\n",
      "VRは、���想現実の略です。VRは、"
     ]
    }
   ],
   "source": [
    "num_generate_tokens = 20\n",
    "\n",
    "for nn in range(num_generate_tokens):\n",
    "\n",
    "    res = model(**inputs)\n",
    "\n",
    "    logits = res['logits'][0,-1,:].to('cpu').detach().numpy().copy()\n",
    "    predicted_id = np.argmax(logits)\n",
    "    if predicted_id == tokenizer.eos_token_id:\n",
    "        print('** EOS token is generated.')\n",
    "        break\n",
    "\n",
    "    token = tokenizer.decode([predicted_id], skip_special_tokens=False)\n",
    "    print(token, end='', flush=True)\n",
    "\n",
    "    inputs = {\n",
    "        'input_ids'           : torch.tensor([[predicted_id]], dtype=torch.int64),\n",
    "        'attention_mask'      : torch.tensor([[1]], dtype=torch.int64),\n",
    "        'position_ids'        : torch.tensor([[pos]], dtype=torch.int32),\n",
    "        'past_key_values'     : res['past_key_values'],\n",
    "        'use_cache'           : True,\n",
    "        'return_dict'         : True\n",
    "    }\n",
    "    pos += 1\n",
    "\n",
    "# past_key_values = ( ( [1,8,seq,128], [1,8,seq,128] ) *32 ) "
   ]
  },
  {
   "cell_type": "code",
   "execution_count": null,
   "id": "06bc029e-0cb9-431f-9c0f-b979d41d22f2",
   "metadata": {},
   "outputs": [],
   "source": []
  }
 ],
 "metadata": {
  "kernelspec": {
   "display_name": "Python 3 (ipykernel)",
   "language": "python",
   "name": "python3"
  },
  "language_info": {
   "codemirror_mode": {
    "name": "ipython",
    "version": 3
   },
   "file_extension": ".py",
   "mimetype": "text/x-python",
   "name": "python",
   "nbconvert_exporter": "python",
   "pygments_lexer": "ipython3",
   "version": "3.10.9"
  }
 },
 "nbformat": 4,
 "nbformat_minor": 5
}
